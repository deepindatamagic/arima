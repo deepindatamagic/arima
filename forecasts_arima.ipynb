{
  "cells": [
    {
      "cell_type": "code",
      "execution_count": null,
      "metadata": {
        "colab": {
          "base_uri": "https://localhost:8080/",
          "height": 786
        },
        "id": "Z3F5IERtsofF",
        "outputId": "b27232ab-dd63-4d47-d0a2-45fd9c26bc34"
      },
      "outputs": [],
      "source": [
        "!pip install pmdarima\n",
        "!pip install plotly\n",
        "!pip install skits"
      ]
    },
    {
      "cell_type": "code",
      "execution_count": 5,
      "metadata": {
        "id": "HfHI1hlhsGdr"
      },
      "outputs": [],
      "source": [
        "import numpy as np \n",
        "import pandas as pd\n",
        "import plotly.express as px\n",
        "from plotly import graph_objects\n",
        "import itertools\n",
        "import warnings \n",
        "import statsmodels.api as sm\n",
        "from statsmodels.tsa.stattools import adfuller\n",
        "import statsmodels.formula.api as smf\n",
        "from statsmodels.tsa.arima_model import ARMA\n",
        "from pmdarima.arima import ADFTest\n",
        "from statsmodels.tsa.seasonal import seasonal_decompose \n",
        "from pmdarima import auto_arima \n",
        "from skits.preprocessing import (ReversibleImputer,\n",
        "                                 DifferenceTransformer)\n",
        "from skits.pipeline import ForecasterPipeline\n",
        "from sklearn.preprocessing import StandardScaler"
      ]
    },
    {
      "cell_type": "markdown",
      "metadata": {
        "id": "NeeMr_SQu6pF"
      },
      "source": [
        "**Load Dataset**"
      ]
    },
    {
      "cell_type": "code",
      "execution_count": null,
      "metadata": {
        "colab": {
          "base_uri": "https://localhost:8080/"
        },
        "id": "RBNOGcAku99P",
        "outputId": "fcc98c70-9668-47e5-eddd-4d23a973e683"
      },
      "outputs": [],
      "source": [
        "data = pd.read_csv('/content/drive/MyDrive/Datasets/stocks.csv', index_col='Date', parse_dates = True)\n",
        "\n",
        "print(data)"
      ]
    },
    {
      "cell_type": "code",
      "execution_count": null,
      "metadata": {
        "colab": {
          "base_uri": "https://localhost:8080/"
        },
        "id": "Ha8C04LFyX_b",
        "outputId": "59b1b724-a621-4c95-81c7-1044634b8491"
      },
      "outputs": [],
      "source": [
        "print(data.Open)"
      ]
    },
    {
      "cell_type": "code",
      "execution_count": null,
      "metadata": {
        "colab": {
          "base_uri": "https://localhost:8080/",
          "height": 542
        },
        "id": "WC2A6jE6xD_Y",
        "outputId": "19fbada0-3def-405b-bf4f-db858914d1c3"
      },
      "outputs": [],
      "source": [
        "\n",
        "y = data.Open\n",
        "fig = px.line(data, x=data.index, y='Open', title='Google Stock Prices')\n",
        "fig.show()"
      ]
    },
    {
      "cell_type": "markdown",
      "metadata": {
        "id": "f-XQlcSU2XhK"
      },
      "source": [
        "**ARIMA**\n",
        "\n",
        "* p is the auto-regressive part of the model, incorporating the effect of the past.\n",
        "\n",
        "* d is the integrated part of the model. This includes terms in the model that incorporate the amount of differencing: the number of past times to subtract from the present time.\n",
        "\n",
        "* q is the moving average part of the model. This allows us to set the error of our model as a linear combination of the error values observed at previous time points in the past.\n",
        "\n",
        "* When dealing with seasonal effects, we make use of the seasonal ARIMA, which is denoted as ARIMA(p,d,q)(P,D,Q)s. Here, (p, d, q) are the non-seasonal parameters described above, while (P, D, Q) follow the same definition but are applied to the seasonal component of the time series. The term s is the periodicity of the time series (4 for quarterly periods, 12 for yearly periods, etc.).\n",
        "\n"
      ]
    },
    {
      "cell_type": "markdown",
      "metadata": {
        "id": "7vxBbEZ52-jt"
      },
      "source": [
        "**Model**\n",
        "\n",
        "* When looking to fit time series data with a seasonal ARIMA model, our first goal is to find the values of ARIMA(p,d,q)(P,D,Q)s that optimize a metric of interest. "
      ]
    },
    {
      "cell_type": "code",
      "execution_count": null,
      "metadata": {
        "colab": {
          "base_uri": "https://localhost:8080/"
        },
        "id": "RwDlsmqkEijR",
        "outputId": "2327adba-91fe-474a-90da-f58be9b4f0d5"
      },
      "outputs": [],
      "source": [
        "# Fit auto_arima function to  dataset \n",
        "stepwise_fit = auto_arima(data['Open'], start_p = 1, start_q = 1, \n",
        "                          max_p = 3, max_q = 3, m = 12, \n",
        "                          start_P = 0, seasonal = True, \n",
        "                          d = None, D = 1, trace = True, \n",
        "                          error_action ='ignore',   # we don't want to know if an order does not work \n",
        "                          suppress_warnings = True,  # we don't want convergence warnings \n",
        "                          stepwise = True)           # set to stepwise "
      ]
    },
    {
      "cell_type": "code",
      "execution_count": null,
      "metadata": {
        "colab": {
          "base_uri": "https://localhost:8080/",
          "height": 465
        },
        "id": "kj658uoMJPxi",
        "outputId": "20e2a194-9910-4972-e273-c2099a09f856"
      },
      "outputs": [],
      "source": [
        "stepwise_fit.summary() "
      ]
    },
    {
      "cell_type": "code",
      "execution_count": 13,
      "metadata": {
        "id": "F-qf_GcvJYmS"
      },
      "outputs": [],
      "source": [
        "# Split data into train / test sets \n",
        "train = data.iloc[:len(data)-12] \n",
        "test = data.iloc[len(data)-12:] # set one year(12 months) for testing "
      ]
    },
    {
      "cell_type": "code",
      "execution_count": null,
      "metadata": {
        "colab": {
          "base_uri": "https://localhost:8080/"
        },
        "id": "_YICPZxJJeJt",
        "outputId": "2fc3ce33-1969-4139-be47-b07fa498473c"
      },
      "outputs": [],
      "source": [
        "print(test)"
      ]
    },
    {
      "cell_type": "code",
      "execution_count": null,
      "metadata": {
        "colab": {
          "base_uri": "https://localhost:8080/"
        },
        "id": "wYxmrE69JhjV",
        "outputId": "0349a647-0bdc-4bd8-a671-151fe9f5216b"
      },
      "outputs": [],
      "source": [
        "print(train)"
      ]
    },
    {
      "cell_type": "code",
      "execution_count": null,
      "metadata": {
        "colab": {
          "base_uri": "https://localhost:8080/",
          "height": 533
        },
        "id": "3KvWgmrHJnY4",
        "outputId": "6ed673ad-fc90-49f8-8041-1ad7667aa280"
      },
      "outputs": [],
      "source": [
        "from statsmodels.tsa.statespace.sarimax import SARIMAX \n",
        "  \n",
        "model = SARIMAX(train['Open'],  \n",
        "                order = (0, 1, 1),  \n",
        "                seasonal_order =(2, 1, 1, 12)) \n",
        "  \n",
        "result = model.fit() \n",
        "result.summary() "
      ]
    },
    {
      "cell_type": "code",
      "execution_count": 17,
      "metadata": {
        "colab": {
          "base_uri": "https://localhost:8080/"
        },
        "id": "lZx6KuWGJvI8",
        "outputId": "d66eaa4e-ad96-4229-8dda-f560aa355794"
      },
      "outputs": [
        {
          "name": "stderr",
          "output_type": "stream",
          "text": [
            "/usr/local/lib/python3.7/dist-packages/statsmodels/tsa/base/tsa_model.py:576: ValueWarning:\n",
            "\n",
            "No supported index is available. Prediction results will be given with an integer index beginning at `start`.\n",
            "\n"
          ]
        }
      ],
      "source": [
        "start = len(train) \n",
        "end = len(train) + len(test) - 1\n",
        "  \n",
        "# Predictions for one-year against the test set \n",
        "predictions = result.predict(start, end, typ = 'levels').rename(\"Predictions\") "
      ]
    },
    {
      "cell_type": "code",
      "execution_count": null,
      "metadata": {
        "colab": {
          "base_uri": "https://localhost:8080/"
        },
        "id": "PAxX5PJOKZXs",
        "outputId": "678a1904-638a-43f5-c3f8-419dbf793744"
      },
      "outputs": [],
      "source": [
        "print(predictions)"
      ]
    },
    {
      "cell_type": "code",
      "execution_count": 19,
      "metadata": {
        "colab": {
          "base_uri": "https://localhost:8080/"
        },
        "id": "GP8ecDMIK1ft",
        "outputId": "501ed71e-03a3-43b6-caf2-132dc315ea34"
      },
      "outputs": [
        {
          "name": "stdout",
          "output_type": "stream",
          "text": [
            "RangeIndex(start=88, stop=100, step=1)\n"
          ]
        }
      ],
      "source": [
        "print(predictions.index)"
      ]
    },
    {
      "cell_type": "code",
      "execution_count": 20,
      "metadata": {
        "id": "hQGuEQy0L3Xo"
      },
      "outputs": [],
      "source": [
        "from sklearn.metrics import mean_squared_error \n",
        "from statsmodels.tools.eval_measures import rmse"
      ]
    },
    {
      "cell_type": "code",
      "execution_count": 22,
      "metadata": {
        "colab": {
          "base_uri": "https://localhost:8080/"
        },
        "id": "KcKPrn8mMEj4",
        "outputId": "bfb7cbf6-cd21-4e09-8fb7-68b6fb33b6a4"
      },
      "outputs": [
        {
          "data": {
            "text/plain": [
              "41.85565348734983"
            ]
          },
          "execution_count": 22,
          "metadata": {
            "tags": []
          },
          "output_type": "execute_result"
        }
      ],
      "source": [
        "# Calculate root mean squared error \n",
        "rmse(test[\"Open\"], predictions) "
      ]
    },
    {
      "cell_type": "code",
      "execution_count": 23,
      "metadata": {
        "colab": {
          "base_uri": "https://localhost:8080/"
        },
        "id": "hd9MiCQnMHgg",
        "outputId": "8ad12603-3c65-405d-8324-f91ee31a11b7"
      },
      "outputs": [
        {
          "data": {
            "text/plain": [
              "1751.8957288530999"
            ]
          },
          "execution_count": 23,
          "metadata": {
            "tags": []
          },
          "output_type": "execute_result"
        }
      ],
      "source": [
        "# Calculate mean squared error \n",
        "mean_squared_error(test[\"Open\"], predictions) "
      ]
    },
    {
      "cell_type": "code",
      "execution_count": null,
      "metadata": {
        "colab": {
          "base_uri": "https://localhost:8080/"
        },
        "id": "eZN0O6bVMP5t",
        "outputId": "8daabe30-5fa6-4a36-8f3b-5215a7e90fd5"
      },
      "outputs": [],
      "source": [
        "# Train the model on the full dataset \n",
        "model = model = SARIMAX(data['Open'],  \n",
        "                        order = (0, 1, 1),  \n",
        "                        seasonal_order =(2, 1, 1, 12)) \n",
        "result = model.fit() \n",
        "  \n",
        "# Forecast for the next 3 years \n",
        "forecast = result.predict(start = len(data),  \n",
        "                          end = (len(data)-1) + 3 * 12,  \n",
        "                          typ = 'levels').rename('Forecast') "
      ]
    },
    {
      "cell_type": "code",
      "execution_count": null,
      "metadata": {
        "colab": {
          "base_uri": "https://localhost:8080/"
        },
        "id": "nSwF0VehMWVw",
        "outputId": "832fd729-6a4f-4ad1-a08c-ab4d2a62472f"
      },
      "outputs": [],
      "source": [
        "print(forecast)"
      ]
    }
  ],
  "metadata": {
    "colab": {
      "collapsed_sections": [],
      "name": "sales_forecasts_arima.ipynb",
      "provenance": []
    },
    "kernelspec": {
      "display_name": "Python 3",
      "name": "python3"
    },
    "language_info": {}
  },
  "nbformat": 4,
  "nbformat_minor": 0
}